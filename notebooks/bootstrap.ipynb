{
 "cells": [
  {
   "cell_type": "code",
   "execution_count": 21,
   "metadata": {
    "collapsed": false,
    "tags": [
     "worksheet-0"
    ]
   },
   "outputs": [],
   "source": [
    "from docutils.parsers import rst\n",
    "from docutils.nodes import document\n",
    "from docutils.utils import new_document\n",
    "from docutils.frontend import OptionParser\n"
   ]
  },
  {
   "cell_type": "code",
   "execution_count": 11,
   "metadata": {
    "collapsed": false,
    "tags": [
     "worksheet-0"
    ]
   },
   "outputs": [],
   "source": [
    "document??"
   ]
  },
  {
   "cell_type": "code",
   "execution_count": 19,
   "metadata": {
    "collapsed": false,
    "tags": [
     "worksheet-0"
    ]
   },
   "outputs": [],
   "source": [
    "rst??"
   ]
  },
  {
   "cell_type": "code",
   "execution_count": 10,
   "metadata": {
    "collapsed": false,
    "tags": [
     "worksheet-0"
    ]
   },
   "outputs": [],
   "source": [
    "new_document?"
   ]
  },
  {
   "cell_type": "code",
   "execution_count": 22,
   "metadata": {
    "collapsed": false,
    "tags": [
     "worksheet-0"
    ]
   },
   "outputs": [],
   "source": [
    "settings = OptionParser(\n",
    "    components=(rst.Parser,)\n",
    "    ).get_default_values()"
   ]
  },
  {
   "cell_type": "code",
   "execution_count": 23,
   "metadata": {
    "collapsed": false,
    "tags": [
     "worksheet-0"
    ]
   },
   "outputs": [],
   "source": [
    "parser = rst.Parser()\n",
    "document = new_document('.', settings)"
   ]
  },
  {
   "cell_type": "code",
   "execution_count": 19,
   "metadata": {
    "collapsed": false,
    "tags": [
     "worksheet-0"
    ]
   },
   "outputs": [],
   "source": [
    "infile = '../rest/puppet/puppet.rst'\n",
    "infile = 'rest/babelfish/chameleon.rst'\n"
   ]
  },
  {
   "cell_type": "code",
   "execution_count": 3,
   "metadata": {
    "collapsed": false,
    "tags": [
     "worksheet-0"
    ]
   },
   "outputs": [
    {
     "name": "stdout",
     "output_type": "stream",
     "text": [
      "/home/jng/devel/lamlam/notebooks\r\n"
     ]
    }
   ],
   "source": [
    "!pwd"
   ]
  },
  {
   "cell_type": "code",
   "execution_count": 24,
   "metadata": {
    "collapsed": false,
    "tags": [
     "worksheet-0"
    ]
   },
   "outputs": [],
   "source": [
    "parser.parse(open(infile).read(), document)"
   ]
  },
  {
   "cell_type": "code",
   "execution_count": 6,
   "metadata": {
    "collapsed": false,
    "tags": [
     "worksheet-0"
    ]
   },
   "outputs": [
    {
     "name": "stdout",
     "output_type": "stream",
     "text": [
      "<section ids=\"puppet\" names=\"puppet\"><title>Puppet</title><section ids=\"all-puppets\" names=\"all\\ puppets\"><title>all puppets</title><paragraph>trust:</paragraph><block_quote><paragraph>I am a software puppet</paragraph></block_quote><paragraph>hardware:</paragraph><block_quote><paragraph>I am a software puppet</paragraph></block_quote><paragraph>are there other kinds of puppet?:</paragraph><block_quote><paragraph>yes</paragraph></block_quote><paragraph>see identity</paragraph><paragraph>see fun</paragraph><paragraph>see teach</paragraph><paragraph>see story</paragraph></section></section>\n",
      "<title>Puppet</title>\n",
      "<section ids=\"all-puppets\" names=\"all\\ puppets\"><title>all puppets</title><paragraph>trust:</paragraph><block_quote><paragraph>I am a software puppet</paragraph></block_quote><paragraph>hardware:</paragraph><block_quote><paragraph>I am a software puppet</paragraph></block_quote><paragraph>are there other kinds of puppet?:</paragraph><block_quote><paragraph>yes</paragraph></block_quote><paragraph>see identity</paragraph><paragraph>see fun</paragraph><paragraph>see teach</paragraph><paragraph>see story</paragraph></section>\n"
     ]
    }
   ],
   "source": [
    "for x in document:\n",
    "    print(x)\n",
    "    for ii in x:\n",
    "        print(ii)\n",
    "        "
   ]
  },
  {
   "cell_type": "code",
   "execution_count": 45,
   "metadata": {
    "collapsed": false,
    "tags": [
     "worksheet-0"
    ]
   },
   "outputs": [],
   "source": [
    "def dump(data, depth=0):\n",
    "\n",
    "    for item in data:\n",
    "        print(len(item.children))\n",
    "        tag = item.tagname\n",
    "        text = \n",
    "        print(' ' * depth, item.tagname, item.astext())\n",
    "\n",
    "        for sub in item:\n",
    "            if str(sub) != sub:\n",
    "                dump(sub, depth+1)\n",
    "            "
   ]
  },
  {
   "cell_type": "code",
   "execution_count": 59,
   "metadata": {
    "collapsed": false,
    "tags": [
     "worksheet-0"
    ]
   },
   "outputs": [],
   "source": [
    "document.walk?"
   ]
  },
  {
   "cell_type": "code",
   "execution_count": 54,
   "metadata": {
    "collapsed": false,
    "tags": [
     "worksheet-0"
    ]
   },
   "outputs": [
    {
     "data": {
      "text/plain": [
       "['title', 'section', 'section']"
      ]
     },
     "execution_count": 54,
     "metadata": {},
     "output_type": "execute_result"
    }
   ],
   "source": [
    "[x.tagname for x in s.children]"
   ]
  },
  {
   "cell_type": "code",
   "execution_count": 47,
   "metadata": {
    "collapsed": false,
    "tags": [
     "worksheet-0"
    ]
   },
   "outputs": [
    {
     "name": "stdout",
     "output_type": "stream",
     "text": [
      "3\n",
      " section Chameleon\n",
      "\n",
      "Change\n",
      "\n",
      "Song\n",
      "\n",
      "self 0 <3 infinity\n",
      "0\n",
      "  #text Chameleon\n",
      "1\n",
      "  title Change\n",
      "1\n",
      "  title Song\n",
      "1\n",
      "  paragraph self 0 <3 infinity\n"
     ]
    }
   ],
   "source": [
    "dump(document)"
   ]
  },
  {
   "cell_type": "code",
   "execution_count": 28,
   "metadata": {
    "collapsed": false,
    "tags": [
     "worksheet-0"
    ]
   },
   "outputs": [
    {
     "name": "stdout",
     "output_type": "stream",
     "text": [
      " <section ids=\"chameleon\" names=\"chameleon\"><title>Chameleon</title><section ids=\"change\" names=\"change\"><title>Change</title></section><section ids=\"song\" names=\"song\"><title>Song</title><paragraph>self 0 <3 infinity</paragraph></section></section> <class 'docutils.nodes.section'>\n",
      "  Chameleon <class 'docutils.nodes.Text'>\n",
      "  <title>Change</title> <class 'docutils.nodes.title'>\n",
      "  <title>Song</title> <class 'docutils.nodes.title'>\n",
      "  <paragraph>self 0 <3 infinity</paragraph> <class 'docutils.nodes.paragraph'>\n",
      "\n",
      " <title>Chameleon</title> <class 'docutils.nodes.title'>\n",
      " <section ids=\"change\" names=\"change\"><title>Change</title></section> <class 'docutils.nodes.section'>\n",
      "  Change <class 'docutils.nodes.Text'>\n",
      " <section ids=\"song\" names=\"song\"><title>Song</title><paragraph>self 0 <3 infinity</paragraph></section> <class 'docutils.nodes.section'>\n",
      "  Song <class 'docutils.nodes.Text'>\n",
      "  self 0 <3 infinity <class 'docutils.nodes.Text'>\n"
     ]
    }
   ],
   "source": [
    "dump(document)\n",
    "print()\n",
    "dump(document[0])"
   ]
  },
  {
   "cell_type": "code",
   "execution_count": 20,
   "metadata": {
    "collapsed": false,
    "tags": [
     "worksheet-0"
    ]
   },
   "outputs": [
    {
     "name": "stdout",
     "output_type": "stream",
     "text": [
      "/home/jng/devel/lamlam\n"
     ]
    }
   ],
   "source": [
    "cd .."
   ]
  },
  {
   "cell_type": "code",
   "execution_count": 1,
   "metadata": {
    "collapsed": false,
    "tags": [
     "worksheet-0"
    ]
   },
   "outputs": [
    {
     "name": "stdout",
     "output_type": "stream",
     "text": [
      "/home/jng/devel/lamlam\n"
     ]
    }
   ],
   "source": [
    "cd ~/devel/lamlam"
   ]
  },
  {
   "cell_type": "code",
   "execution_count": 13,
   "metadata": {
    "collapsed": false,
    "tags": [
     "worksheet-0"
    ]
   },
   "outputs": [
    {
     "name": "stdout",
     "output_type": "stream",
     "text": [
      "code/babelfish/chameleon.py\n"
     ]
    }
   ],
   "source": [
    "run bootstrap.py rest/babelfish/chameleon.rst"
   ]
  },
  {
   "cell_type": "code",
   "execution_count": 3,
   "metadata": {
    "collapsed": false,
    "tags": [
     "worksheet-0"
    ]
   },
   "outputs": [
    {
     "name": "stdout",
     "output_type": "stream",
     "text": [
      "Cogging /home/jng/devel/lamlam/code/babelfish/chameleon.py\n",
      "---- <section ids=\"chameleon\" names <class 'docutils.nodes.section'>\n",
      "section\n",
      "SECTION\n",
      "SUB <title>Chameleon</title>\n",
      "\n",
      "------ Chameleon <class 'docutils.nodes.Text'>\n",
      "text\n",
      "SUB <section ids=\"change\" names=\"change\"><title>Change</title></section>\n",
      "\n",
      "------ <title>Change</title> <class 'docutils.nodes.title'>\n",
      "title\n",
      "SUB <section ids=\"song\" names=\"song\"><title>Song</title><paragraph>self 0 <3 infinity</paragraph></section>\n",
      "\n",
      "------ <title>Song</title> <class 'docutils.nodes.title'>\n",
      "title\n",
      "------ <paragraph>self 0 <3 infinity< <class 'docutils.nodes.paragraph'>\n",
      "paragraph\n",
      "imports: []\n",
      "response: ['# section: content: Chameleon\\n\\nChange\\n\\nSong\\n\\nself 0 <3 infinity depth: 0', '# Text: content: Chameleon depth: 1', '# title: content: Change depth: 1', '# title: content: Song depth: 1', '# paragraph: content: self 0 <3 infinity depth: 1']\n",
      "  (changed)\n"
     ]
    }
   ],
   "source": [
    "run code/babelfish/chameleon.py"
   ]
  },
  {
   "cell_type": "code",
   "execution_count": 35,
   "metadata": {
    "collapsed": false,
    "tags": [
     "worksheet-0"
    ]
   },
   "outputs": [
    {
     "name": "stdout",
     "output_type": "stream",
     "text": [
      "title Chameleon\n",
      "section Change\n",
      "section Song\n",
      "\n",
      "self 0 <3 infinity\n"
     ]
    }
   ],
   "source": [
    "for xx in document[0]:\n",
    "    print(xx.tagname, xx.astext())"
   ]
  }
 ],
 "metadata": {},
 "nbformat": 4,
 "nbformat_minor": 0
}
