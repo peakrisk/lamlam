
In [11]:
from docutils.parsers import rst
from docutils.nodes import document
from docutils.utils import new_document
from docutils.frontend import OptionParser


In [11]:
document??

In [19]:
rst??

In [10]:
new_document?

In [12]:
settings = OptionParser(
    components=(rst.Parser,)
    ).get_default_values()

In [13]:
parser = rst.Parser()
document = new_document('.', settings)

In [3]:
!pwd
/home/jng/devel/lamlam/notebooks


In [8]:
infile = '../rest/puppet/puppet.rst'

In [14]:
parser.parse(open(infile).read(), document)

In [17]:
for x in document:
    print(x)
    for ii in x:
        print(ii)
        
<section ids="puppet" names="puppet"><title>Puppet</title><section ids="all-puppets" names="all\ puppets"><title>all puppets</title><paragraph>trust:</paragraph><block_quote><paragraph>I am a software puppet</paragraph></block_quote><paragraph>hardware:</paragraph><block_quote><paragraph>I am a software puppet</paragraph></block_quote><paragraph>are there other kinds of puppet?:</paragraph><block_quote><paragraph>yes</paragraph></block_quote><paragraph>see identity</paragraph><paragraph>see fun</paragraph><paragraph>see teach</paragraph><paragraph>see story</paragraph></section></section>
<title>Puppet</title>
<section ids="all-puppets" names="all\ puppets"><title>all puppets</title><paragraph>trust:</paragraph><block_quote><paragraph>I am a software puppet</paragraph></block_quote><paragraph>hardware:</paragraph><block_quote><paragraph>I am a software puppet</paragraph></block_quote><paragraph>are there other kinds of puppet?:</paragraph><block_quote><paragraph>yes</paragraph></block_quote><paragraph>see identity</paragraph><paragraph>see fun</paragraph><paragraph>see teach</paragraph><paragraph>see story</paragraph></section>


In [39]:
def dump(data, depth=0):

    for item in data:
        print(' ' * depth, item, type(item))

        for sub in item:
            if str(sub) != sub:
                dump(sub, depth+1)
    for x in dir(item): print(x)
            

In [40]:
dump(document)
 <section ids="puppet" names="puppet"><title>Puppet</title><section ids="all-puppets" names="all\ puppets"><title>all puppets</title><paragraph>trust:</paragraph><block_quote><paragraph>I am a software puppet</paragraph></block_quote><paragraph>hardware:</paragraph><block_quote><paragraph>I am a software puppet</paragraph></block_quote><paragraph>are there other kinds of puppet?:</paragraph><block_quote><paragraph>yes</paragraph></block_quote><paragraph>see identity</paragraph><paragraph>see fun</paragraph><paragraph>see teach</paragraph><paragraph>see story</paragraph></section></section> <class 'docutils.nodes.section'>
  Puppet <class 'docutils.nodes.Text'>
__add__
__bool__
__class__
__contains__
__delattr__
__dict__
__dir__
__doc__
__eq__
__format__
__ge__
__getattribute__
__getitem__
__getnewargs__
__gt__
__hash__
__init__
__iter__
__le__
__len__
__lt__
__mod__
__module__
__mul__
__ne__
__new__
__reduce__
__reduce_ex__
__repr__
__rmod__
__rmul__
__setattr__
__sizeof__
__str__
__subclasshook__
__weakref__
_all_traverse
_dom_node
_fast_traverse
asdom
astext
capitalize
casefold
center
children
copy
count
deepcopy
document
encode
endswith
expandtabs
find
format
format_map
index
isalnum
isalpha
isdecimal
isdigit
isidentifier
islower
isnumeric
isprintable
isspace
istitle
isupper
join
line
ljust
lower
lstrip
maketrans
next_node
parent
partition
pformat
rawsource
replace
rfind
rindex
rjust
rpartition
rsplit
rstrip
setup_child
shortrepr
source
split
splitlines
startswith
strip
swapcase
tagname
title
translate
traverse
upper
walk
walkabout
zfill
  <title>all puppets</title> <class 'docutils.nodes.title'>
  <paragraph>trust:</paragraph> <class 'docutils.nodes.paragraph'>
  <block_quote><paragraph>I am a software puppet</paragraph></block_quote> <class 'docutils.nodes.block_quote'>
   I am a software puppet <class 'docutils.nodes.Text'>
__add__
__bool__
__class__
__contains__
__delattr__
__dict__
__dir__
__doc__
__eq__
__format__
__ge__
__getattribute__
__getitem__
__getnewargs__
__gt__
__hash__
__init__
__iter__
__le__
__len__
__lt__
__mod__
__module__
__mul__
__ne__
__new__
__reduce__
__reduce_ex__
__repr__
__rmod__
__rmul__
__setattr__
__sizeof__
__str__
__subclasshook__
__weakref__
_all_traverse
_dom_node
_fast_traverse
asdom
astext
capitalize
casefold
center
children
copy
count
deepcopy
document
encode
endswith
expandtabs
find
format
format_map
index
isalnum
isalpha
isdecimal
isdigit
isidentifier
islower
isnumeric
isprintable
isspace
istitle
isupper
join
line
ljust
lower
lstrip
maketrans
next_node
parent
partition
pformat
rawsource
replace
rfind
rindex
rjust
rpartition
rsplit
rstrip
setup_child
shortrepr
source
split
splitlines
startswith
strip
swapcase
tagname
title
translate
traverse
upper
walk
walkabout
zfill
  <paragraph>hardware:</paragraph> <class 'docutils.nodes.paragraph'>
  <block_quote><paragraph>I am a software puppet</paragraph></block_quote> <class 'docutils.nodes.block_quote'>
   I am a software puppet <class 'docutils.nodes.Text'>
__add__
__bool__
__class__
__contains__
__delattr__
__dict__
__dir__
__doc__
__eq__
__format__
__ge__
__getattribute__
__getitem__
__getnewargs__
__gt__
__hash__
__init__
__iter__
__le__
__len__
__lt__
__mod__
__module__
__mul__
__ne__
__new__
__reduce__
__reduce_ex__
__repr__
__rmod__
__rmul__
__setattr__
__sizeof__
__str__
__subclasshook__
__weakref__
_all_traverse
_dom_node
_fast_traverse
asdom
astext
capitalize
casefold
center
children
copy
count
deepcopy
document
encode
endswith
expandtabs
find
format
format_map
index
isalnum
isalpha
isdecimal
isdigit
isidentifier
islower
isnumeric
isprintable
isspace
istitle
isupper
join
line
ljust
lower
lstrip
maketrans
next_node
parent
partition
pformat
rawsource
replace
rfind
rindex
rjust
rpartition
rsplit
rstrip
setup_child
shortrepr
source
split
splitlines
startswith
strip
swapcase
tagname
title
translate
traverse
upper
walk
walkabout
zfill
  <paragraph>are there other kinds of puppet?:</paragraph> <class 'docutils.nodes.paragraph'>
  <block_quote><paragraph>yes</paragraph></block_quote> <class 'docutils.nodes.block_quote'>
   yes <class 'docutils.nodes.Text'>
__add__
__bool__
__class__
__contains__
__delattr__
__dict__
__dir__
__doc__
__eq__
__format__
__ge__
__getattribute__
__getitem__
__getnewargs__
__gt__
__hash__
__init__
__iter__
__le__
__len__
__lt__
__mod__
__module__
__mul__
__ne__
__new__
__reduce__
__reduce_ex__
__repr__
__rmod__
__rmul__
__setattr__
__sizeof__
__str__
__subclasshook__
__weakref__
_all_traverse
_dom_node
_fast_traverse
asdom
astext
capitalize
casefold
center
children
copy
count
deepcopy
document
encode
endswith
expandtabs
find
format
format_map
index
isalnum
isalpha
isdecimal
isdigit
isidentifier
islower
isnumeric
isprintable
isspace
istitle
isupper
join
line
ljust
lower
lstrip
maketrans
next_node
parent
partition
pformat
rawsource
replace
rfind
rindex
rjust
rpartition
rsplit
rstrip
setup_child
shortrepr
source
split
splitlines
startswith
strip
swapcase
tagname
title
translate
traverse
upper
walk
walkabout
zfill
  <paragraph>see identity</paragraph> <class 'docutils.nodes.paragraph'>
  <paragraph>see fun</paragraph> <class 'docutils.nodes.paragraph'>
  <paragraph>see teach</paragraph> <class 'docutils.nodes.paragraph'>
  <paragraph>see story</paragraph> <class 'docutils.nodes.paragraph'>
__add__
__bool__
__class__
__contains__
__delattr__
__delitem__
__dict__
__dir__
__doc__
__eq__
__format__
__ge__
__getattribute__
__getitem__
__gt__
__hash__
__iadd__
__init__
__le__
__len__
__lt__
__module__
__ne__
__new__
__radd__
__reduce__
__reduce_ex__
__repr__
__setattr__
__setitem__
__sizeof__
__str__
__subclasshook__
__unicode__
__weakref__
_all_traverse
_dom_node
_fast_traverse
append
append_attr_list
asdom
astext
attlist
attributes
basic_attributes
child_text_separator
children
clear
coerce_append_attr_list
copy
copy_attr_coerce
copy_attr_concatenate
copy_attr_consistent
copy_attr_convert
deepcopy
delattr
document
emptytag
endtag
extend
first_child_matching_class
first_child_not_matching_class
get
get_language_code
has_key
hasattr
index
insert
is_not_default
is_not_known_attribute
is_not_list_attribute
known_attributes
line
list_attributes
local_attributes
next_node
non_default_attributes
note_referenced_by
parent
pformat
pop
rawsource
remove
replace
replace_attr
replace_self
set_class
setdefault
setup_child
shortrepr
source
starttag
tagname
traverse
update_all_atts
update_all_atts_coercion
update_all_atts_concatenating
update_all_atts_consistantly
update_all_atts_convert
update_basic_atts
walk
walkabout
__add__
__bool__
__class__
__contains__
__delattr__
__delitem__
__dict__
__dir__
__doc__
__eq__
__format__
__ge__
__getattribute__
__getitem__
__gt__
__hash__
__iadd__
__init__
__le__
__len__
__lt__
__module__
__ne__
__new__
__radd__
__reduce__
__reduce_ex__
__repr__
__setattr__
__setitem__
__sizeof__
__str__
__subclasshook__
__unicode__
__weakref__
_all_traverse
_dom_node
_fast_traverse
append
append_attr_list
asdom
astext
attlist
attributes
basic_attributes
child_text_separator
children
clear
coerce_append_attr_list
copy
copy_attr_coerce
copy_attr_concatenate
copy_attr_consistent
copy_attr_convert
deepcopy
delattr
document
emptytag
endtag
extend
first_child_matching_class
first_child_not_matching_class
get
get_language_code
has_key
hasattr
index
insert
is_not_default
is_not_known_attribute
is_not_list_attribute
known_attributes
line
list_attributes
local_attributes
next_node
non_default_attributes
note_referenced_by
parent
pformat
pop
rawsource
remove
replace
replace_attr
replace_self
set_class
setdefault
setup_child
shortrepr
source
starttag
tagname
traverse
update_all_atts
update_all_atts_coercion
update_all_atts_concatenating
update_all_atts_consistantly
update_all_atts_convert
update_basic_atts
walk
walkabout


In [41]:
import inspect

In [42]:
inspect.get
['ArgInfo',
 'ArgSpec',
 'Arguments',
 'Attribute',
 'BlockFinder',
 'BoundArguments',
 'CO_GENERATOR',
 'CO_NESTED',
 'CO_NEWLOCALS',
 'CO_NOFREE',
 'CO_OPTIMIZED',
 'CO_VARARGS',
 'CO_VARKEYWORDS',
 'ClosureVars',
 'EndOfBlock',
 'FullArgSpec',
 'GEN_CLOSED',
 'GEN_CREATED',
 'GEN_RUNNING',
 'GEN_SUSPENDED',
 'ModuleInfo',
 'OrderedDict',
 'Parameter',
 'Signature',
 'TPFLAGS_IS_ABSTRACT',
 'Traceback',
 '_ClassMethodWrapper',
 '_KEYWORD_ONLY',
 '_MethodWrapper',
 '_NonUserDefinedCallables',
 '_POSITIONAL_ONLY',
 '_POSITIONAL_OR_KEYWORD',
 '_ParameterKind',
 '_VAR_KEYWORD',
 '_VAR_POSITIONAL',
 '_WrapperDescriptor',
 '__author__',
 '__builtins__',
 '__cached__',
 '__doc__',
 '__file__',
 '__loader__',
 '__name__',
 '__package__',
 '__spec__',
 '_check_class',
 '_check_instance',
 '_empty',
 '_filesbymodname',
 '_flag_names',
 '_getfullargs',
 '_is_type',
 '_main',
 '_missing_arguments',
 '_sentinel',
 '_shadowed_dict',
 '_signature_bound_method',
 '_signature_from_builtin',
 '_signature_fromstr',
 '_signature_get_bound_param',
 '_signature_get_partial',
 '_signature_get_user_defined_method',
 '_signature_internal',
 '_signature_is_builtin',
 '_signature_is_functionlike',
 '_signature_strip_non_python_syntax',
 '_static_getmro',
 '_too_many',
 '_void',
 'ast',
 'attrgetter',
 'builtins',
 'classify_class_attrs',
 'cleandoc',
 'currentframe',
 'findsource',
 'formatannotation',
 'formatannotationrelativeto',
 'formatargspec',
 'formatargvalues',
 'functools',
 'getabsfile',
 'getargs',
 'getargspec',
 'getargvalues',
 'getattr_static',
 'getblock',
 'getcallargs',
 'getclasstree',
 'getclosurevars',
 'getcomments',
 'getdoc',
 'getfile',
 'getframeinfo',
 'getfullargspec',
 'getgeneratorlocals',
 'getgeneratorstate',
 'getinnerframes',
 'getlineno',
 'getmembers',
 'getmodule',
 'getmoduleinfo',
 'getmodulename',
 'getmro',
 'getouterframes',
 'getsource',
 'getsourcefile',
 'getsourcelines',
 'importlib',
 'indentsize',
 'isabstract',
 'isbuiltin',
 'isclass',
 'iscode',
 'isdatadescriptor',
 'isframe',
 'isfunction',
 'isgenerator',
 'isgeneratorfunction',
 'isgetsetdescriptor',
 'ismemberdescriptor',
 'ismethod',
 'ismethoddescriptor',
 'ismodule',
 'isroutine',
 'istraceback',
 'itertools',
 'k',
 'linecache',
 'mod_dict',
 'modulesbyfile',
 'namedtuple',
 'os',
 're',
 'signature',
 'stack',
 'sys',
 'token',
 'tokenize',
 'trace',
 'types',
 'unwrap',
 'v',
 'walktree',
 'warnings']

In [24]:
from cogapp import Cog

In [25]:
Cog??

In [43]:
x = "rest/foo/bar.rst"

In [47]:
x.rstrip("rst").lstrip('rest')
'/foo/bar.'

In [44]:
dir(x)
['__add__',
 '__class__',
 '__contains__',
 '__delattr__',
 '__dir__',
 '__doc__',
 '__eq__',
 '__format__',
 '__ge__',
 '__getattribute__',
 '__getitem__',
 '__getnewargs__',
 '__gt__',
 '__hash__',
 '__init__',
 '__iter__',
 '__le__',
 '__len__',
 '__lt__',
 '__mod__',
 '__mul__',
 '__ne__',
 '__new__',
 '__reduce__',
 '__reduce_ex__',
 '__repr__',
 '__rmod__',
 '__rmul__',
 '__setattr__',
 '__sizeof__',
 '__str__',
 '__subclasshook__',
 'capitalize',
 'casefold',
 'center',
 'count',
 'encode',
 'endswith',
 'expandtabs',
 'find',
 'format',
 'format_map',
 'index',
 'isalnum',
 'isalpha',
 'isdecimal',
 'isdigit',
 'isidentifier',
 'islower',
 'isnumeric',
 'isprintable',
 'isspace',
 'istitle',
 'isupper',
 'join',
 'ljust',
 'lower',
 'lstrip',
 'maketrans',
 'partition',
 'replace',
 'rfind',
 'rindex',
 'rjust',
 'rpartition',
 'rsplit',
 'rstrip',
 'split',
 'splitlines',
 'startswith',
 'strip',
 'swapcase',
 'title',
 'translate',
 'upper',
 'zfill']

In [48]:
import os



In [50]:
os.path.splitext('foo.bar')
('foo', '.bar')

In [51]:
os.makedirs?

In [56]:
x = ''

In [62]:
x.strip??

